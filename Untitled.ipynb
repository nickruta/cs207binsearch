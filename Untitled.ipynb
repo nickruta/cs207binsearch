{
 "cells": [
  {
   "cell_type": "code",
   "execution_count": 20,
   "metadata": {
    "collapsed": false
   },
   "outputs": [
    {
     "name": "stdout",
     "output_type": "stream",
     "text": [
      "\u001b[1m============================= test session starts ==============================\u001b[0m\n",
      "platform darwin -- Python 3.5.2, pytest-3.0.2, py-1.4.31, pluggy-0.3.1\n",
      "rootdir: /Users/jarvis/Dropbox/cs207binsearch, inifile: \n",
      "plugins: cov-2.3.1\n",
      "collected 5 items \n",
      "\u001b[0m\n",
      "binsearch.py .\n",
      "test_binsearch.py ...F\n",
      "\n",
      "---------- coverage: platform darwin, python 3.5.2-final-0 -----------\n",
      "Name                Stmts   Miss  Cover   Missing\n",
      "-------------------------------------------------\n",
      "binsearch.py           18      0   100%\n",
      "test_binsearch.py      14      0   100%\n",
      "-------------------------------------------------\n",
      "TOTAL                  32      0   100%\n",
      "\n",
      "\n",
      "=================================== FAILURES ===================================\n",
      "\u001b[31m\u001b[1m______________________________ test_using_fixture ______________________________\u001b[0m\n",
      "\n",
      "array = [2, 3, 5]\n",
      "\n",
      "\u001b[1m    def test_using_fixture(array):\u001b[0m\n",
      "\u001b[1m>   \tassert binary_search(array, 2) == 1\u001b[0m\n",
      "\u001b[31m\u001b[1mE    assert 0 == 1\u001b[0m\n",
      "\u001b[31m\u001b[1mE     +  where 0 = binary_search([2, 3, 5], 2)\u001b[0m\n",
      "\n",
      "\u001b[31m\u001b[1mtest_binsearch.py\u001b[0m:21: AssertionError\n",
      "\u001b[31m\u001b[1m====================== 1 failed, 4 passed in 0.27 seconds ======================\u001b[0m\n"
     ]
    }
   ],
   "source": [
    "!py.test --doctest-modules --cov --cov-report term-missing binsearch.py test_binsearch.py"
   ]
  },
  {
   "cell_type": "code",
   "execution_count": null,
   "metadata": {
    "collapsed": true
   },
   "outputs": [],
   "source": []
  },
  {
   "cell_type": "code",
   "execution_count": null,
   "metadata": {
    "collapsed": true
   },
   "outputs": [],
   "source": []
  }
 ],
 "metadata": {
  "kernelspec": {
   "display_name": "Python [Root]",
   "language": "python",
   "name": "Python [Root]"
  },
  "language_info": {
   "codemirror_mode": {
    "name": "ipython",
    "version": 3
   },
   "file_extension": ".py",
   "mimetype": "text/x-python",
   "name": "python",
   "nbconvert_exporter": "python",
   "pygments_lexer": "ipython3",
   "version": "3.5.2"
  }
 },
 "nbformat": 4,
 "nbformat_minor": 0
}
